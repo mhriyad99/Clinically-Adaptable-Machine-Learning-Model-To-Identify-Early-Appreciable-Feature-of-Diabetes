{
  "nbformat": 4,
  "nbformat_minor": 0,
  "metadata": {
    "colab": {
      "provenance": [],
      "authorship_tag": "ABX9TyPELGPfOMUwBZeF/Hp6Dmpb",
      "include_colab_link": true
    },
    "kernelspec": {
      "display_name": "Python 3",
      "name": "python3"
    },
    "language_info": {
      "name": "python"
    }
  },
  "cells": [
    {
      "cell_type": "markdown",
      "metadata": {
        "id": "view-in-github",
        "colab_type": "text"
      },
      "source": [
        "<a href=\"https://colab.research.google.com/github/mhriyad99/Clinically-Adaptable-Machine-Learning-Model-To-Identify-Early-Appreciable-Feature-of-Diabetes/blob/main/Diabetes_Data_Analysis_1_(Collected_data).ipynb\" target=\"_parent\"><img src=\"https://colab.research.google.com/assets/colab-badge.svg\" alt=\"Open In Colab\"/></a>"
      ]
    },
    {
      "cell_type": "code",
      "metadata": {
        "id": "lQApyhNyBO6f"
      },
      "source": [
        "import numpy as np\n",
        "import pandas as pd\n",
        "import matplotlib.pyplot as plt\n",
        "import seaborn as sns"
      ],
      "execution_count": null,
      "outputs": []
    },
    {
      "cell_type": "code",
      "source": [
        "sns.set_style('darkgrid')\n",
        "plt.rc('axes', titlesize = 18)        # font size of title\n",
        "plt.rc('axes', labelsize = 14)        # font size of x and y label\n",
        "plt.rc('xtick', labelsize = 13)       # font size of tick label\n",
        "plt.rc('ytick', labelsize = 13)       # font size of tick label\n",
        "plt.rc('legend', fontsize = 13)       # legend fontsize\n",
        "plt.rc('font', size = 13)             # controls default text size"
      ],
      "metadata": {
        "id": "zzSajzYpNEiJ"
      },
      "execution_count": null,
      "outputs": []
    },
    {
      "cell_type": "code",
      "metadata": {
        "id": "DkUNjvTSB6Sb"
      },
      "source": [
        "data = pd.read_csv(\"/content/Questionaries' for pre-diagnose diabetes (Responses) - Form Responses 1.csv\")\n",
        "data.head()"
      ],
      "execution_count": null,
      "outputs": []
    },
    {
      "cell_type": "markdown",
      "metadata": {
        "id": "ni8IkJ_gszfB"
      },
      "source": [
        "##**Data Cleaning**"
      ]
    },
    {
      "cell_type": "code",
      "metadata": {
        "id": "4ndBSw7dCKT4"
      },
      "source": [
        "data.drop(['Timestamp', 'Height'], axis = 1, inplace = True)"
      ],
      "execution_count": null,
      "outputs": []
    },
    {
      "cell_type": "code",
      "metadata": {
        "id": "S7Ppij23GPe6"
      },
      "source": [
        "data.head()"
      ],
      "execution_count": null,
      "outputs": []
    },
    {
      "cell_type": "code",
      "metadata": {
        "id": "mOCN-sDNGRZ2"
      },
      "source": [
        "data.info()"
      ],
      "execution_count": null,
      "outputs": []
    },
    {
      "cell_type": "markdown",
      "metadata": {
        "id": "sx8TzBmsw6S6"
      },
      "source": [
        "Here we can see that 'Age' and 'Weight' columns are of object type. So, we have to convert them to numeric type. More specifically to float64"
      ]
    },
    {
      "cell_type": "code",
      "metadata": {
        "id": "TSjoehQkkpXK"
      },
      "source": [
        "data.isnull().sum()"
      ],
      "execution_count": null,
      "outputs": []
    },
    {
      "cell_type": "markdown",
      "metadata": {
        "id": "rno5Hseff5xr"
      },
      "source": [
        "From the above we can see there are 5 missing values in the 'Smoking' column."
      ]
    },
    {
      "cell_type": "code",
      "metadata": {
        "id": "04Jte1KcGcqf"
      },
      "source": [
        "data['Smoking'].value_counts()"
      ],
      "execution_count": null,
      "outputs": []
    },
    {
      "cell_type": "markdown",
      "metadata": {
        "id": "yayNigoCgPPr"
      },
      "source": [
        "Because most of the values of the column 'Smoking' is 'No' so we will try to replace the 5 missing values with 'No' "
      ]
    },
    {
      "cell_type": "markdown",
      "metadata": {
        "id": "AU6xbeRypPKJ"
      },
      "source": [
        "###Replacing Missing Values"
      ]
    },
    {
      "cell_type": "code",
      "metadata": {
        "id": "OPVvUFMBciwa"
      },
      "source": [
        "smoking = data.Smoking"
      ],
      "execution_count": null,
      "outputs": []
    },
    {
      "cell_type": "code",
      "metadata": {
        "id": "z6xeVuPrfVIW"
      },
      "source": [
        "data.shape"
      ],
      "execution_count": null,
      "outputs": []
    },
    {
      "cell_type": "code",
      "metadata": {
        "id": "tOwJcaSReU_Y"
      },
      "source": [
        "for i in range(data.shape[0]):\n",
        "  if isinstance(data.loc[i, 'Smoking'], float):\n",
        "    print(i)"
      ],
      "execution_count": null,
      "outputs": []
    },
    {
      "cell_type": "code",
      "metadata": {
        "id": "5SqwHM6pjvK2"
      },
      "source": [
        "data.loc[[266,364,366,494,505],['Smoking']]"
      ],
      "execution_count": null,
      "outputs": []
    },
    {
      "cell_type": "code",
      "metadata": {
        "id": "AkfiLhJgkDdy"
      },
      "source": [
        "for i in range(data.shape[0]):\n",
        "  if isinstance(data.loc[i, 'Smoking'], float):\n",
        "    data.loc[i, 'Smoking'] = 'No'"
      ],
      "execution_count": null,
      "outputs": []
    },
    {
      "cell_type": "code",
      "metadata": {
        "id": "urtAKMlsnwPc"
      },
      "source": [
        "data.isnull().sum()"
      ],
      "execution_count": null,
      "outputs": []
    },
    {
      "cell_type": "code",
      "metadata": {
        "id": "jgtoyDz-tQrO"
      },
      "source": [
        "data['Age'][1:] = data['Age'][1:].astype(np.float64)"
      ],
      "execution_count": null,
      "outputs": []
    },
    {
      "cell_type": "code",
      "metadata": {
        "id": "f257PDNauX0M"
      },
      "source": [
        "data['Age'][1:].mean()"
      ],
      "execution_count": null,
      "outputs": []
    },
    {
      "cell_type": "code",
      "metadata": {
        "id": "cXQLOm_PzgdC"
      },
      "source": [
        "data['Age'][0] = data['Age'][1:].mean() "
      ],
      "execution_count": null,
      "outputs": []
    },
    {
      "cell_type": "markdown",
      "metadata": {
        "id": "ms4OCj1wfpdP"
      },
      "source": [
        "####**Cleaning coulumn 'Weight'**"
      ]
    },
    {
      "cell_type": "code",
      "metadata": {
        "id": "kEykksxfZvCw"
      },
      "source": [
        "import re\n",
        "\n",
        "for i in range(data.shape[0]):\n",
        "  match = re.findall(r'\\d*',data['Weight'][i])\n",
        "  if match[0] == '':\n",
        "    data['Weight'][i] = str(0)\n",
        "  else:\n",
        "    data['Weight'][i] = match[0]"
      ],
      "execution_count": null,
      "outputs": []
    },
    {
      "cell_type": "code",
      "metadata": {
        "id": "2CL0si_Zzn7j"
      },
      "source": [
        "data.head()"
      ],
      "execution_count": null,
      "outputs": []
    },
    {
      "cell_type": "code",
      "metadata": {
        "id": "W0exUcVfkGRd"
      },
      "source": [
        "# Converting 'Age' and 'Weight' to numpy float\n",
        "data['Age'] = data['Age'].astype(np.float64)\n",
        "data['Weight'] = data['Weight'].astype(np.float64)"
      ],
      "execution_count": null,
      "outputs": []
    },
    {
      "cell_type": "code",
      "metadata": {
        "id": "52uzXLsPk66P"
      },
      "source": [
        "data.dtypes"
      ],
      "execution_count": null,
      "outputs": []
    },
    {
      "cell_type": "code",
      "metadata": {
        "id": "birPq633noqO"
      },
      "source": [
        "data['Weight'].mean()\n",
        "   "
      ],
      "execution_count": null,
      "outputs": []
    },
    {
      "cell_type": "code",
      "metadata": {
        "id": "9-aWjR5tnude"
      },
      "source": [
        "for i in range(data.shape[0]):\n",
        "  if data['Weight'][i] == 0:\n",
        "    print(i)\n",
        "    data['Weight'][i] == data['Weight'].mean()\n",
        " "
      ],
      "execution_count": null,
      "outputs": []
    },
    {
      "cell_type": "markdown",
      "metadata": {
        "id": "7SCzRE0YDE73"
      },
      "source": [
        "##**Exploratory Data Analysis**"
      ]
    },
    {
      "cell_type": "code",
      "metadata": {
        "id": "j6QTdbeQo7hI"
      },
      "source": [
        "columns = data.columns"
      ],
      "execution_count": null,
      "outputs": []
    },
    {
      "cell_type": "code",
      "metadata": {
        "id": "PKVM1zgJbe5i"
      },
      "source": [
        "for i in columns:\n",
        "  if data[i].dtypes == 'O':\n",
        "    X = data[i].value_counts()\n",
        "    plt.figure()\n",
        "    plt.bar(X.index,X.values, width= 0.4)\n",
        "    for j in range (len(X.values)):\n",
        "      plt.text(j,X.values[j], s= X.values[j], ha = 'center', va = 'bottom')\n",
        "    plt.title(i)\n",
        "  else:\n",
        "    fig, ax = plt.subplots(1, 1)\n",
        "    ax.hist(data[i], bins = [0,10,20,30,40,50,60,70,80,90,100])\n",
        "  \n",
        "    # Set title\n",
        "    ax.set_title(i)\n",
        "  \n",
        "    # Make some labels.\n",
        "    rects = ax.patches\n",
        "    for rect in rects:\n",
        "      height = rect.get_height()\n",
        "      ax.text(rect.get_x() + rect.get_width() / 2, height+0.01, height,\n",
        "              ha='center', va='bottom')\n"
      ],
      "execution_count": null,
      "outputs": []
    },
    {
      "cell_type": "markdown",
      "metadata": {
        "id": "MHNK4wOJg057"
      },
      "source": [
        "##**Encoding Categorical features**"
      ]
    },
    {
      "cell_type": "code",
      "metadata": {
        "id": "nuqlD7KNpFEw"
      },
      "source": [
        "from sklearn.preprocessing import LabelEncoder\n",
        "le = LabelEncoder()\n",
        "for column in columns:\n",
        "  if data[column].dtypes == 'O':\n",
        "    data[column] = le.fit_transform(data[column])"
      ],
      "execution_count": null,
      "outputs": []
    },
    {
      "cell_type": "code",
      "metadata": {
        "id": "Mnw_2A4An6vn"
      },
      "source": [
        "data.head()"
      ],
      "execution_count": null,
      "outputs": []
    },
    {
      "cell_type": "markdown",
      "metadata": {
        "id": "P2uKC3LEG5q8"
      },
      "source": [
        "##**Correlation Analysis**"
      ]
    },
    {
      "cell_type": "code",
      "metadata": {
        "id": "SsiMlC-Uo_ZC"
      },
      "source": [
        "plt.figure()\n",
        "plt.figure(figsize = (25,10))\n",
        "sns.heatmap(data.corr(), cmap = 'inferno', annot = True)"
      ],
      "execution_count": null,
      "outputs": []
    },
    {
      "cell_type": "markdown",
      "metadata": {
        "id": "ls2BkBFWho0i"
      },
      "source": [
        "From above we can see that coulumn :\n",
        "\n",
        "\n",
        "*  **Age** is highly correlated with coulumn **High Blood Pressure**, **Dalayed Healing** and it is also a significant feature in detecting **Diabetes**.\n",
        "*   **High Blood Pressure** have good correlation coefficient of **0.61** with **Diabetes**.\n",
        "*   **Polyuria** have good correalation coefficient of **0.62** with **Delayed Healing** and it is also a significant feature for detecting **Diabetes**.\n",
        "*   **Delayed Healing** is highly correalated with **Diabetes**, with correlation coefficient of **0.76**.\n",
        "\n",
        "\n",
        "\n",
        "\n",
        "\n"
      ]
    },
    {
      "cell_type": "markdown",
      "metadata": {
        "id": "WZCtgPKGHLZT"
      },
      "source": [
        "##**t-Test**\n"
      ]
    },
    {
      "cell_type": "code",
      "metadata": {
        "id": "M_CP6U3oqSZv"
      },
      "source": [
        "cols = list(data.columns)\n",
        "from scipy import stats\n",
        "\n",
        "for i in columns:\n",
        "  for j in columns:\n",
        "    if cols.index(j) <= cols.index(i):\n",
        "      pass\n",
        "    else:\n",
        "      t_test, p_value = stats.ttest_ind(a = data[i], b = data[j], equal_var= False)\n",
        "      if p_value > 0.05:  \n",
        "        print(\"\\n\")\n",
        "        print(\">>> t-test between {} and {}:\".format(i,j))\n",
        "        print(\"The t-test value = \",t_test, \" and p-value= \", p_value)"
      ],
      "execution_count": null,
      "outputs": []
    },
    {
      "cell_type": "markdown",
      "metadata": {
        "id": "f-MSDT46hOWW"
      },
      "source": [
        "##**Outlier Detection**"
      ]
    },
    {
      "cell_type": "code",
      "metadata": {
        "id": "ZKxy4YbfFA4h"
      },
      "source": [
        "def univariate_outlier_detection(column):\n",
        "\n",
        "  print(\"\\n\\n-----------------------  {n}  ------------------------\".format(n = column))\n",
        "\n",
        "  mean = data[column].mean()\n",
        "  median = data[column].median()\n",
        "  mode = data[column].mode()\n",
        "\n",
        "  print(\"\\nMean:\", mean, \"\\nMedian: \", median,\"\\nMode: \", mode[0])\n",
        "\n",
        "  Q1 = data[column].quantile(q = 0.25)\n",
        "  Q3 = data[column].quantile(q = 0.75)\n",
        "  IQR = stats.iqr(data[column])\n",
        "\n",
        "  print(\"\\n\\n1st quartile: \", Q1)\n",
        "  print(\"3rd quartile: \", Q3)\n",
        "  print(\"Inter-quartile Range: \", IQR)\n",
        "\n",
        "  l_outlier_range = Q1 - 1.5*IQR\n",
        "  u_outlier_range = Q3 + 1.5*IQR\n",
        "  print(\"\\n\\nLower outlier range: \", l_outlier_range)\n",
        "  print(\"Upper outlier range: \", u_outlier_range)\n",
        "\n",
        "  print(\"\\n\\nNumber of outlier in upper range: \", data[data[column] > u_outlier_range][column].count())\n",
        "  print(\"Number of outlier in lower range: \", data[data[column] < l_outlier_range][column].count())\n",
        "  print(\"\\n% of outlier in upper range: \", (data[data[column] > u_outlier_range][column].count()*100/len(data)))\n",
        "  print(\"% of outlier in lower range: \", (data[data[column] < l_outlier_range][column].count()*100/len(data)))\n",
        "\n",
        "  #Boxplot\n",
        "  print(\"Boxplot of column \" + column)\n",
        "  plt.figure()\n",
        "  ax = sns.boxplot(x = data[column])\n",
        "\n",
        "  plt.show()"
      ],
      "execution_count": null,
      "outputs": []
    },
    {
      "cell_type": "code",
      "metadata": {
        "id": "2SWmes4iFVJO"
      },
      "source": [
        "for i in columns:\n",
        "  if data[i].dtypes == 'float64':\n",
        "    univariate_outlier_detection(i)"
      ],
      "execution_count": null,
      "outputs": []
    },
    {
      "cell_type": "markdown",
      "metadata": {
        "id": "Q7f9ypfFASBc"
      },
      "source": [
        "###Using Classifiers"
      ]
    },
    {
      "cell_type": "code",
      "metadata": {
        "id": "UswgPzgrBxkb"
      },
      "source": [
        "from sklearn.metrics import accuracy_score, precision_score, recall_score, f1_score"
      ],
      "execution_count": null,
      "outputs": []
    },
    {
      "cell_type": "code",
      "metadata": {
        "id": "DLUc8OP7ARbh"
      },
      "source": [],
      "execution_count": null,
      "outputs": []
    }
  ]
}